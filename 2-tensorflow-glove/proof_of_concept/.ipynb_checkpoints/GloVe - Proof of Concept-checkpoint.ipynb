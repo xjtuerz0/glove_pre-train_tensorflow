{
 "cells": [
  {
   "cell_type": "code",
   "execution_count": 1,
   "metadata": {},
   "outputs": [],
   "source": [
    "from __future__ import division\n",
    "from itertools import islice\n",
    "from imp import reload\n",
    "import sys\n",
    "from random import shuffle\n",
    "import datetime\n",
    "from sklearn.manifold import TSNE\n",
    "import matplotlib.pyplot as plt\n",
    "import tensorflow as tf\n",
    "import corpus_tools as ct\n",
    "ct = reload(ct)"
   ]
  },
  {
   "cell_type": "code",
   "execution_count": 2,
   "metadata": {},
   "outputs": [],
   "source": [
    "def plot_with_labels(low_dim_embs, labels, filename='tsne.png', size=(100, 100)):\n",
    "    assert low_dim_embs.shape[0] >= len(labels), \"More labels than embeddings\"\n",
    "    figure = plt.figure(figsize=size) #in inches\n",
    "    for i, label in enumerate(labels):\n",
    "        x, y = low_dim_embs[i,:]\n",
    "        plt.scatter(x, y)\n",
    "        plt.annotate(label,\n",
    "                     xy=(x, y),\n",
    "                     xytext=(5, 2),\n",
    "                     textcoords='offset points',\n",
    "                     ha='right',\n",
    "                     va='bottom')\n",
    "    figure.savefig(filename)\n",
    "    plt.close(figure)\n",
    "\n",
    "def output_tsne(embeddings, filename, size=(100, 100), plot_only=1000):\n",
    "    tsne = TSNE(perplexity=30, n_components=2, init='pca', n_iter=5000)\n",
    "    low_dim_embs = tsne.fit_transform(embeddings[:plot_only,:])\n",
    "    labels = reddit_corpus.words[:plot_only]\n",
    "    plot_with_labels(low_dim_embs, labels, filename, size)\n",
    "    \n",
    "def batchify(batch_size, *sequences):\n",
    "    for i in range(0, len(sequences[0]), batch_size):\n",
    "        yield tuple(sequence[i:i+batch_size] for sequence in sequences)"
   ]
  },
  {
   "cell_type": "code",
   "execution_count": 3,
   "metadata": {
    "scrolled": true
   },
   "outputs": [],
   "source": [
    "COUNT_MAX = 100\n",
    "SCALING_FACTOR = 3 / 4\n",
    "EMBEDDING_SIZE = 150\n",
    "CONTEXT_SIZE = 10\n",
    "MIN_OCCURRENCES = 25\n",
    "LEARNING_RATE = 0.05\n",
    "NUM_EPOCHS = 50\n",
    "BATCH_SIZE = 512\n",
    "REPORT_BATCH_SIZE = 10000\n",
    "TSNE_EPOCH_FREQ = 1"
   ]
  },
  {
   "cell_type": "code",
   "execution_count": 4,
   "metadata": {
    "scrolled": true
   },
   "outputs": [
    {
     "name": "stdout",
     "output_type": "stream",
     "text": [
      "Unique tokens: 322\n",
      "Non-zero elems of cooccurrence matrix: 60558\n"
     ]
    }
   ],
   "source": [
    "# load the corpus\n",
    "\n",
    "# reddit_corpus = ct.RedditCorpus(\"/media/grady/PrimeMover/Datasets/RC_2015-01-1m_sample\", size=CONTEXT_SIZE)\n",
    "file_path = \"/Users/zl/Desktop/课件2020/网络空间安全综合实验/glove-本地/tensorflow-glove/data\"\n",
    "reddit_corpus = ct.RedditCorpus(file_path+\"/RC_2005-12\",size=CONTEXT_SIZE,)\n",
    "reddit_corpus.fit(min_occurrences=MIN_OCCURRENCES)\n",
    "vocab_size = len(reddit_corpus.words)\n",
    "print(\"Unique tokens: {}\".format(vocab_size))\n",
    "print(\"Non-zero elems of cooccurrence matrix: {}\".format(len(reddit_corpus.cooccurrence_matrix)))"
   ]
  },
  {
   "cell_type": "code",
   "execution_count": 6,
   "metadata": {},
   "outputs": [],
   "source": [
    "def device_for_node(n):\n",
    "  if n.type == \"MatMul\":\n",
    "    return \"/gpu:0\"\n",
    "  else:\n",
    "    return \"/cpu:0\"\n",
    "\n",
    "graph = tf.Graph()\n",
    "\n",
    "with graph.as_default():\n",
    "    with graph.device(device_for_node):\n",
    "        count_max = tf.constant([COUNT_MAX], dtype=tf.float32)\n",
    "        scaling_factor = tf.constant([SCALING_FACTOR], dtype=tf.float32)\n",
    "        focal_input = tf.placeholder(tf.int32, shape=[BATCH_SIZE])\n",
    "        context_input = tf.placeholder(tf.int32, shape=[BATCH_SIZE])\n",
    "        cooccurrence_count = tf.placeholder(tf.float32, shape=[BATCH_SIZE])\n",
    "\n",
    "\n",
    "        focal_embeddings = tf.Variable(\n",
    "            tf.random_uniform([vocab_size, EMBEDDING_SIZE], 1.0, -1.0)\n",
    "        )\n",
    "\n",
    "        context_embeddings = tf.Variable(\n",
    "            tf.random_uniform([vocab_size, EMBEDDING_SIZE], 1.0, -1.0)\n",
    "        )\n",
    "\n",
    "        focal_biases = tf.Variable(\n",
    "            tf.random_uniform([vocab_size], 1.0, -1.0)\n",
    "        )\n",
    "\n",
    "        context_biases = tf.Variable(\n",
    "            tf.random_uniform([vocab_size], 1.0, -1.0)\n",
    "        )\n",
    "\n",
    "        focal_embedding = tf.nn.embedding_lookup([focal_embeddings], focal_input)\n",
    "        context_embedding = tf.nn.embedding_lookup([context_embeddings], context_input)\n",
    "        focal_bias = tf.nn.embedding_lookup([focal_biases], focal_input)\n",
    "        context_bias = tf.nn.embedding_lookup([context_biases], context_input)\n",
    "\n",
    "        weighting_factor = tf.minimum(\n",
    "            1.0, \n",
    "            tf.pow(\n",
    "                tf.div(cooccurrence_count, count_max), \n",
    "                scaling_factor\n",
    "            )\n",
    "        )\n",
    "        \n",
    "        embedding_product = tf.reduce_sum(tf.multiply(focal_embedding, context_embedding), 1) \n",
    "        \n",
    "        log_cooccurrences = tf.log(tf.to_float(cooccurrence_count))\n",
    "        \n",
    "        distance_expr = tf.square(tf.add_n([\n",
    "            embedding_product,\n",
    "            focal_bias,\n",
    "            context_bias,\n",
    "            tf.negative(log_cooccurrences)\n",
    "        ]))\n",
    "\n",
    "        single_losses = tf.multiply(weighting_factor, distance_expr)\n",
    "        total_loss = tf.reduce_sum(single_losses)\n",
    "        optimizer = tf.train.AdagradOptimizer(LEARNING_RATE).minimize(total_loss)\n",
    "        \n",
    "        combined_embeddings = tf.add(focal_embeddings, context_embeddings)\n",
    "\n",
    "# okay, so the graph is maybe built... Time to run it!\n"
   ]
  },
  {
   "cell_type": "code",
   "execution_count": 7,
   "metadata": {},
   "outputs": [
    {
     "ename": "NameError",
     "evalue": "name 'xrange' is not defined",
     "output_type": "error",
     "traceback": [
      "\u001b[0;31m---------------------------------------------------------------------------\u001b[0m",
      "\u001b[0;31mNameError\u001b[0m                                 Traceback (most recent call last)",
      "\u001b[0;32m<ipython-input-7-05310f849454>\u001b[0m in \u001b[0;36m<module>\u001b[0;34m()\u001b[0m\n\u001b[1;32m      3\u001b[0m \u001b[0mi_indices\u001b[0m\u001b[0;34m,\u001b[0m \u001b[0mj_indices\u001b[0m\u001b[0;34m,\u001b[0m \u001b[0mcounts\u001b[0m \u001b[0;34m=\u001b[0m \u001b[0mzip\u001b[0m\u001b[0;34m(\u001b[0m\u001b[0;34m*\u001b[0m\u001b[0mcooccurrences\u001b[0m\u001b[0;34m)\u001b[0m\u001b[0;34m\u001b[0m\u001b[0m\n\u001b[1;32m      4\u001b[0m \u001b[0;34m\u001b[0m\u001b[0m\n\u001b[0;32m----> 5\u001b[0;31m \u001b[0mbatches\u001b[0m \u001b[0;34m=\u001b[0m \u001b[0mlist\u001b[0m\u001b[0;34m(\u001b[0m\u001b[0mbatchify\u001b[0m\u001b[0;34m(\u001b[0m\u001b[0mBATCH_SIZE\u001b[0m\u001b[0;34m,\u001b[0m \u001b[0mi_indices\u001b[0m\u001b[0;34m,\u001b[0m \u001b[0mj_indices\u001b[0m\u001b[0;34m,\u001b[0m \u001b[0mcounts\u001b[0m\u001b[0;34m)\u001b[0m\u001b[0;34m)\u001b[0m\u001b[0;34m\u001b[0m\u001b[0m\n\u001b[0m",
      "\u001b[0;32m<ipython-input-2-7eddaef5a9ab>\u001b[0m in \u001b[0;36mbatchify\u001b[0;34m(batch_size, *sequences)\u001b[0m\n\u001b[1;32m     21\u001b[0m \u001b[0;34m\u001b[0m\u001b[0m\n\u001b[1;32m     22\u001b[0m \u001b[0;32mdef\u001b[0m \u001b[0mbatchify\u001b[0m\u001b[0;34m(\u001b[0m\u001b[0mbatch_size\u001b[0m\u001b[0;34m,\u001b[0m \u001b[0;34m*\u001b[0m\u001b[0msequences\u001b[0m\u001b[0;34m)\u001b[0m\u001b[0;34m:\u001b[0m\u001b[0;34m\u001b[0m\u001b[0m\n\u001b[0;32m---> 23\u001b[0;31m     \u001b[0;32mfor\u001b[0m \u001b[0mi\u001b[0m \u001b[0;32min\u001b[0m \u001b[0mxrange\u001b[0m\u001b[0;34m(\u001b[0m\u001b[0;36m0\u001b[0m\u001b[0;34m,\u001b[0m \u001b[0mlen\u001b[0m\u001b[0;34m(\u001b[0m\u001b[0msequences\u001b[0m\u001b[0;34m[\u001b[0m\u001b[0;36m0\u001b[0m\u001b[0;34m]\u001b[0m\u001b[0;34m)\u001b[0m\u001b[0;34m,\u001b[0m \u001b[0mbatch_size\u001b[0m\u001b[0;34m)\u001b[0m\u001b[0;34m:\u001b[0m\u001b[0;34m\u001b[0m\u001b[0m\n\u001b[0m\u001b[1;32m     24\u001b[0m         \u001b[0;32myield\u001b[0m \u001b[0mtuple\u001b[0m\u001b[0;34m(\u001b[0m\u001b[0msequence\u001b[0m\u001b[0;34m[\u001b[0m\u001b[0mi\u001b[0m\u001b[0;34m:\u001b[0m\u001b[0mi\u001b[0m\u001b[0;34m+\u001b[0m\u001b[0mbatch_size\u001b[0m\u001b[0;34m]\u001b[0m \u001b[0;32mfor\u001b[0m \u001b[0msequence\u001b[0m \u001b[0;32min\u001b[0m \u001b[0msequences\u001b[0m\u001b[0;34m)\u001b[0m\u001b[0;34m\u001b[0m\u001b[0m\n",
      "\u001b[0;31mNameError\u001b[0m: name 'xrange' is not defined"
     ]
    }
   ],
   "source": [
    "cooccurrences = [(pos[0], pos[1], count) for pos, count in reddit_corpus.cooccurrence_matrix.items()]\n",
    "\n",
    "i_indices, j_indices, counts = zip(*cooccurrences)\n",
    "\n",
    "batches = list(batchify(BATCH_SIZE, i_indices, j_indices, counts))"
   ]
  },
  {
   "cell_type": "code",
   "execution_count": null,
   "metadata": {},
   "outputs": [],
   "source": [
    "print(\"Begin training: {}\".format(datetime.datetime.now().time()))\n",
    "print(\"=================\")\n",
    "sys.stdout.flush()\n",
    "with tf.Session(graph=graph) as session:\n",
    "    tf.initialize_all_variables().run()\n",
    "    for epoch in range(NUM_EPOCHS):\n",
    "        shuffle(batches)\n",
    "        print(\"Batches shuffled\")\n",
    "        print(\"-----------------\")\n",
    "        sys.stdout.flush()\n",
    "        accumulated_loss = 0\n",
    "        for batch_index, batch in enumerate(batches):\n",
    "            i_s, j_s, counts = batch\n",
    "            if len(counts) != BATCH_SIZE:\n",
    "                continue\n",
    "            feed_dict = {focal_input: i_s, context_input: j_s, cooccurrence_count: counts}\n",
    "            _, total_loss_,  = session.run([optimizer, total_loss], feed_dict=feed_dict)            \n",
    "            accumulated_loss += total_loss_\n",
    "            if (batch_index + 1) % REPORT_BATCH_SIZE == 0:\n",
    "                print(\"Epoch: {0}/{1}\".format(epoch + 1, NUM_EPOCHS))\n",
    "                print(\"Batch: {0}/{1}\".format(batch_index + 1, len(batches)))\n",
    "                print(\"Average loss: {}\".format(accumulated_loss / REPORT_BATCH_SIZE))\n",
    "                print(\"-----------------\")\n",
    "                sys.stdout.flush()\n",
    "                accumulated_loss = 0\n",
    "        if (epoch + 1) % TSNE_EPOCH_FREQ == 0:\n",
    "            print(\"Outputting t-SNE: {}\".format(datetime.datetime.now().time()))\n",
    "            print(\"-----------------\")\n",
    "            sys.stdout.flush()\n",
    "            current_embeddings = combined_embeddings.eval()\n",
    "            output_tsne(current_embeddings, \"epoch{:02d}.png\".format(epoch + 1))\n",
    "        print(\"Epoch finished: {}\".format(datetime.datetime.now().time()))\n",
    "        print(\"=================\")\n",
    "        sys.stdout.flush()\n",
    "    final_embeddings = combined_embeddings.eval()\n",
    "print(\"End: {}\".format(datetime.datetime.now().time()))"
   ]
  },
  {
   "cell_type": "code",
   "execution_count": null,
   "metadata": {},
   "outputs": [],
   "source": [
    "output_tsne(final_embeddings, \"final_big-minibatch-1m.png\", plot_only=4000)"
   ]
  }
 ],
 "metadata": {
  "kernelspec": {
   "display_name": "Python 3",
   "language": "python",
   "name": "python3"
  },
  "language_info": {
   "codemirror_mode": {
    "name": "ipython",
    "version": 3
   },
   "file_extension": ".py",
   "mimetype": "text/x-python",
   "name": "python",
   "nbconvert_exporter": "python",
   "pygments_lexer": "ipython3",
   "version": "3.7.0"
  }
 },
 "nbformat": 4,
 "nbformat_minor": 1
}
